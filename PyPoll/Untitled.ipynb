{
 "cells": [
  {
   "cell_type": "code",
   "execution_count": 33,
   "id": "13bc18e9",
   "metadata": {},
   "outputs": [],
   "source": [
    "import os\n",
    "import csv"
   ]
  },
  {
   "cell_type": "code",
   "execution_count": 34,
   "id": "7572a141",
   "metadata": {},
   "outputs": [],
   "source": [
    "csvpath = os.path.join('Resources', 'election_data.csv')"
   ]
  },
  {
   "cell_type": "code",
   "execution_count": 35,
   "id": "52f3f958",
   "metadata": {},
   "outputs": [],
   "source": [
    "#Variables\n",
    "Total_Votes = 0\n",
    "Candidate_Votes = {}\n",
    "Election_Winner = ''\n",
    "Election_Winner_votes = 0"
   ]
  },
  {
   "cell_type": "code",
   "execution_count": 36,
   "id": "d1ed9c6c",
   "metadata": {},
   "outputs": [],
   "source": [
    "#Read the CSV File\n",
    "\n",
    "with open(csvpath) as csvfile:\n",
    "    csvreader = csv.reader(csvfile,delimiter=',')\n",
    "    \n",
    "    #As our data set contains header, I skipped the header as it will falsely analyze the data.\n",
    "    csv_header = next(csvreader)\n",
    "    \n",
    "    #Creating a for loop to go through each row in our data set.\n",
    "    for row in csvreader:\n",
    "        \n",
    "        #Check the candidate for current selected vote.\n",
    "        candidate = row[2]\n",
    "        \n",
    "        #Incrementor for votes\n",
    "        Total_Votes += 1\n",
    "        \n",
    "        # Vote counter and tracker\n",
    "        if candidate in Candidate_Votes:\n",
    "            Candidate_Votes[candidate] += 1\n",
    "        else:\n",
    "            Candidate_Votes[candidate] = 1\n",
    "            \n",
    "        # Check for the new winner based on previous line results    \n",
    "        if Candidate_Votes[candidate] > winner_votes:\n",
    "            Election_Winner = candidate\n",
    "            Election_Winner_votes = Candidate_Votes[candidate]"
   ]
  },
  {
   "cell_type": "code",
   "execution_count": 37,
   "id": "c96741b6",
   "metadata": {},
   "outputs": [],
   "source": [
    "#  Created a List\n",
    "summary = []\n",
    "summary.append(\"Election Results\")\n",
    "summary.append(\"-------------------------\")\n",
    "summary.append(f\"Total Votes: {total_votes}\")\n",
    "summary.append(\"-------------------------\")"
   ]
  },
  {
   "cell_type": "code",
   "execution_count": 38,
   "id": "6e4a26bb",
   "metadata": {},
   "outputs": [],
   "source": [
    "# Creating a for loop to analyze the percentage and total number of votes among the 3 candidates\n",
    "for candidate, votes in candidate_votes.items():\n",
    "    percentage = (votes / total_votes) * 100\n",
    "    summary.append(f\"{candidate}: {percentage:.3f}% ({votes})\")\n",
    "\n",
    "summary.append(\"-------------------------\")\n",
    "summary.append(f\"Winner: {winner}\")\n",
    "summary.append(\"-------------------------\")\n"
   ]
  },
  {
   "cell_type": "code",
   "execution_count": 39,
   "id": "03efe884",
   "metadata": {},
   "outputs": [
    {
     "name": "stdout",
     "output_type": "stream",
     "text": [
      "Election Results\n",
      "-------------------------\n",
      "Total Votes: 369711\n",
      "-------------------------\n",
      "Charles Casper Stockham: 23.049% (85213)\n",
      "Diana DeGette: 73.812% (272892)\n",
      "Raymon Anthony Doane: 3.139% (11606)\n",
      "-------------------------\n",
      "Winner: Diana DeGette\n",
      "-------------------------\n"
     ]
    }
   ],
   "source": [
    "# Print the analysis results\n",
    "for line in summary:\n",
    "    print(line)"
   ]
  },
  {
   "cell_type": "code",
   "execution_count": 32,
   "id": "7ecac62a",
   "metadata": {},
   "outputs": [
    {
     "name": "stdout",
     "output_type": "stream",
     "text": [
      "Election Results\n",
      "-------------------------\n",
      "Total Votes: 369711\n",
      "-------------------------\n",
      "Charles Casper Stockham: 23.049% (85213)\n",
      "Diana DeGette: 73.812% (272892)\n",
      "Raymon Anthony Doane: 3.139% (11606)\n",
      "-------------------------\n",
      "Winner: Diana DeGette\n",
      "-------------------------\n"
     ]
    }
   ],
   "source": [
    "# Print the analysis to the terminal and export a text file with the results\n",
    "with open('Results.txt', 'w') as text:\n",
    "\n",
    "    for line in summary:\n",
    "        text.write(line + '\\n')"
   ]
  },
  {
   "cell_type": "code",
   "execution_count": null,
   "id": "202f961d",
   "metadata": {},
   "outputs": [],
   "source": []
  }
 ],
 "metadata": {
  "kernelspec": {
   "display_name": "Python 3 (ipykernel)",
   "language": "python",
   "name": "python3"
  },
  "language_info": {
   "codemirror_mode": {
    "name": "ipython",
    "version": 3
   },
   "file_extension": ".py",
   "mimetype": "text/x-python",
   "name": "python",
   "nbconvert_exporter": "python",
   "pygments_lexer": "ipython3",
   "version": "3.10.9"
  }
 },
 "nbformat": 4,
 "nbformat_minor": 5
}

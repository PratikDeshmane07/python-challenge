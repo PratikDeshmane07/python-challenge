{
 "cells": [
  {
   "cell_type": "code",
   "execution_count": 1,
   "id": "0873c7fa",
   "metadata": {},
   "outputs": [],
   "source": [
    "import os\n",
    "import csv"
   ]
  },
  {
   "cell_type": "code",
   "execution_count": 2,
   "id": "e3a002e0",
   "metadata": {},
   "outputs": [],
   "source": [
    "#Path for Csv\n",
    "csvpath = os.path.join('Resources', 'budget_data.csv')"
   ]
  },
  {
   "cell_type": "code",
   "execution_count": 3,
   "id": "46777a4a",
   "metadata": {},
   "outputs": [],
   "source": [
    "#Variables\n",
    "Months_Total = 0\n",
    "net_total = 0\n",
    "previous_profit_loss = 0\n",
    "total_change = 0\n",
    "Greatest_Increase = ['', 0]\n",
    "Greatest_Decrease = ['', 0]"
   ]
  },
  {
   "cell_type": "code",
   "execution_count": 4,
   "id": "d9f45d93",
   "metadata": {},
   "outputs": [
    {
     "name": "stdout",
     "output_type": "stream",
     "text": [
      "Financial Analysis\n",
      "-------------------------\n",
      "Total Months: 86\n",
      "Total: $22564198\n",
      "Average Change: $-8311.11\n",
      "Greatest Increase in Profits: Aug-16 ($1862002)\n",
      "Greatest Decrease in Profits: Feb-14 ($-1825558)\n"
     ]
    }
   ],
   "source": [
    "#Read the CSV File\n",
    "\n",
    "with open(csvpath) as csvfile:\n",
    "    csvreader = csv.reader(csvfile,delimiter=',')\n",
    "    \n",
    "    #As our data set contains header, I skipped the header as it will falsely analyze the data.\n",
    "    csv_header = next(csvreader)\n",
    "    \n",
    "    #Creating a for loop to go through each row in our data set.\n",
    "    for row in csvreader:\n",
    "        date = row[0]\n",
    "        profit_loss = int(row[1])\n",
    "       \n",
    "        #Total Number of months\n",
    "        Months_Total +=1\n",
    "        \n",
    "        #Total amount for profit/Loss\n",
    "        net_total += profit_loss\n",
    "        \n",
    "# Analysis on change in profit or loss from the previous line\n",
    "        if Months_Total > 1:\n",
    "            change = profit_loss - previous_profit_loss\n",
    "            total_change += change\n",
    "            \n",
    "# Analyzing if the above change is the greatest increase in profit by using if statement\n",
    "            if change > Greatest_Increase[1]:\n",
    "                Greatest_Increase = [date, change]\n",
    "            \n",
    "# Analyzing if the change that we calculated in two line above is the greatest decrease in profit by using if statement\n",
    "            if change < Greatest_Decrease[1]:\n",
    "                Greatest_Decrease = [date, change]\n",
    "        \n",
    "# save date for next calculation\n",
    "        previous_profit_loss = profit_loss\n",
    "\n",
    "# Analysis for the average change in profit/loss\n",
    "average_change = total_change / (Months_Total - 1)\n",
    "\n",
    "# Print the analysis results\n",
    "print(\"Financial Analysis\")\n",
    "print(\"-------------------------\")\n",
    "print(f\"Total Months: {Months_Total}\")\n",
    "print(f\"Total: ${net_total}\")\n",
    "print(f\"Average Change: ${average_change:.2f}\")\n",
    "print(f\"Greatest Increase in Profits: {Greatest_Increase[0]} (${Greatest_Increase[1]})\")\n",
    "print(f\"Greatest Decrease in Profits: {Greatest_Decrease[0]} (${Greatest_Decrease[1]})\")"
   ]
  },
  {
   "cell_type": "code",
   "execution_count": 5,
   "id": "8b966b16",
   "metadata": {},
   "outputs": [],
   "source": [
    "# Print the analysis to the terminal and export a text file with the results\n",
    "with open('ProfitLoss_Financial_Analysis.txt', 'w') as text:\n",
    "    text.write(\"Financial Analysis\" + '\\n')\n",
    "    text.write(\"----------------------\"+ '\\n')\n",
    "    text.write(f\"Total Months: {Months_Total}\"+ '\\n')\n",
    "    text.write(f\"Total: ${net_total}\"+ '\\n')\n",
    "    text.write(f\"Average Change: ${average_change:.2f}\"+ '\\n')\n",
    "    text.write(f\"Greatest Increase in Profits: {Greatest_Increase[0]} (${Greatest_Increase[1]})\"+ '\\n')\n",
    "    text.write(f\"Greatest Decrease in Profits: {Greatest_Decrease[0]} (${Greatest_Decrease[1]})\"+ '\\n')"
   ]
  },
  {
   "cell_type": "code",
   "execution_count": null,
   "id": "b3473b0e",
   "metadata": {},
   "outputs": [],
   "source": []
  }
 ],
 "metadata": {
  "kernelspec": {
   "display_name": "Python 3 (ipykernel)",
   "language": "python",
   "name": "python3"
  },
  "language_info": {
   "codemirror_mode": {
    "name": "ipython",
    "version": 3
   },
   "file_extension": ".py",
   "mimetype": "text/x-python",
   "name": "python",
   "nbconvert_exporter": "python",
   "pygments_lexer": "ipython3",
   "version": "3.10.9"
  }
 },
 "nbformat": 4,
 "nbformat_minor": 5
}
